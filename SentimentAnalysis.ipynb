{
 "cells": [
  {
   "cell_type": "markdown",
   "id": "66f0ce42-0d66-4ffe-8cdb-70ccf452570e",
   "metadata": {},
   "source": [
    "## Imports & Downloads"
   ]
  },
  {
   "cell_type": "code",
   "execution_count": 12,
   "id": "12364855-4a8a-4226-902b-443014b7322d",
   "metadata": {},
   "outputs": [],
   "source": [
    "import nltk"
   ]
  },
  {
   "cell_type": "code",
   "execution_count": 13,
   "id": "9014b72e-1f35-4d64-a8bc-b60cdf9daa4c",
   "metadata": {},
   "outputs": [
    {
     "name": "stderr",
     "output_type": "stream",
     "text": [
      "[nltk_data] Downloading package vader_lexicon to\n",
      "[nltk_data]     /home/sid/nltk_data...\n",
      "[nltk_data]   Package vader_lexicon is already up-to-date!\n"
     ]
    },
    {
     "data": {
      "text/plain": [
       "True"
      ]
     },
     "execution_count": 13,
     "metadata": {},
     "output_type": "execute_result"
    }
   ],
   "source": [
    "nltk.download('vader_lexicon')"
   ]
  },
  {
   "cell_type": "code",
   "execution_count": 14,
   "id": "7051fed2-a72a-44ec-9f9d-bb35184785e8",
   "metadata": {},
   "outputs": [],
   "source": [
    "import pandas as pd\n",
    "from nltk.sentiment.vader import SentimentIntensityAnalyzer"
   ]
  },
  {
   "cell_type": "markdown",
   "id": "0ffbde1a-f9d0-4688-aed4-d2dee0c55edd",
   "metadata": {},
   "source": [
    "## Read in the data"
   ]
  },
  {
   "cell_type": "code",
   "execution_count": 16,
   "id": "b5c506c3-4aee-4da4-933d-b566c91c94b9",
   "metadata": {},
   "outputs": [],
   "source": [
    "data = pd.read_csv('DisneylandReviews.csv', encoding='latin-1')"
   ]
  },
  {
   "cell_type": "markdown",
   "id": "a603f597-fd8d-49ed-807c-51149528d4fc",
   "metadata": {},
   "source": [
    "## What does the data look like"
   ]
  },
  {
   "cell_type": "code",
   "execution_count": 20,
   "id": "8021d04d-409c-4e37-aeae-ad1b6cd98eff",
   "metadata": {},
   "outputs": [
    {
     "data": {
      "text/html": [
       "<div>\n",
       "<style scoped>\n",
       "    .dataframe tbody tr th:only-of-type {\n",
       "        vertical-align: middle;\n",
       "    }\n",
       "\n",
       "    .dataframe tbody tr th {\n",
       "        vertical-align: top;\n",
       "    }\n",
       "\n",
       "    .dataframe thead th {\n",
       "        text-align: right;\n",
       "    }\n",
       "</style>\n",
       "<table border=\"1\" class=\"dataframe\">\n",
       "  <thead>\n",
       "    <tr style=\"text-align: right;\">\n",
       "      <th></th>\n",
       "      <th>Review_ID</th>\n",
       "      <th>Rating</th>\n",
       "      <th>Year_Month</th>\n",
       "      <th>Reviewer_Location</th>\n",
       "      <th>Review_Text</th>\n",
       "      <th>Branch</th>\n",
       "    </tr>\n",
       "  </thead>\n",
       "  <tbody>\n",
       "    <tr>\n",
       "      <th>0</th>\n",
       "      <td>670772142</td>\n",
       "      <td>4</td>\n",
       "      <td>2019-4</td>\n",
       "      <td>Australia</td>\n",
       "      <td>If you've ever been to Disneyland anywhere you...</td>\n",
       "      <td>Disneyland_HongKong</td>\n",
       "    </tr>\n",
       "    <tr>\n",
       "      <th>1</th>\n",
       "      <td>670682799</td>\n",
       "      <td>4</td>\n",
       "      <td>2019-5</td>\n",
       "      <td>Philippines</td>\n",
       "      <td>Its been a while since d last time we visit HK...</td>\n",
       "      <td>Disneyland_HongKong</td>\n",
       "    </tr>\n",
       "    <tr>\n",
       "      <th>2</th>\n",
       "      <td>670623270</td>\n",
       "      <td>4</td>\n",
       "      <td>2019-4</td>\n",
       "      <td>United Arab Emirates</td>\n",
       "      <td>Thanks God it wasn   t too hot or too humid wh...</td>\n",
       "      <td>Disneyland_HongKong</td>\n",
       "    </tr>\n",
       "    <tr>\n",
       "      <th>3</th>\n",
       "      <td>670607911</td>\n",
       "      <td>4</td>\n",
       "      <td>2019-4</td>\n",
       "      <td>Australia</td>\n",
       "      <td>HK Disneyland is a great compact park. Unfortu...</td>\n",
       "      <td>Disneyland_HongKong</td>\n",
       "    </tr>\n",
       "    <tr>\n",
       "      <th>4</th>\n",
       "      <td>670607296</td>\n",
       "      <td>4</td>\n",
       "      <td>2019-4</td>\n",
       "      <td>United Kingdom</td>\n",
       "      <td>the location is not in the city, took around 1...</td>\n",
       "      <td>Disneyland_HongKong</td>\n",
       "    </tr>\n",
       "  </tbody>\n",
       "</table>\n",
       "</div>"
      ],
      "text/plain": [
       "   Review_ID  Rating Year_Month     Reviewer_Location  \\\n",
       "0  670772142       4     2019-4             Australia   \n",
       "1  670682799       4     2019-5           Philippines   \n",
       "2  670623270       4     2019-4  United Arab Emirates   \n",
       "3  670607911       4     2019-4             Australia   \n",
       "4  670607296       4     2019-4        United Kingdom   \n",
       "\n",
       "                                         Review_Text               Branch  \n",
       "0  If you've ever been to Disneyland anywhere you...  Disneyland_HongKong  \n",
       "1  Its been a while since d last time we visit HK...  Disneyland_HongKong  \n",
       "2  Thanks God it wasn   t too hot or too humid wh...  Disneyland_HongKong  \n",
       "3  HK Disneyland is a great compact park. Unfortu...  Disneyland_HongKong  \n",
       "4  the location is not in the city, took around 1...  Disneyland_HongKong  "
      ]
     },
     "execution_count": 20,
     "metadata": {},
     "output_type": "execute_result"
    }
   ],
   "source": [
    "data.head(5)"
   ]
  },
  {
   "cell_type": "code",
   "execution_count": 21,
   "id": "66241062-bbc6-4074-934d-b103119598cf",
   "metadata": {},
   "outputs": [
    {
     "data": {
      "text/plain": [
       "(42656, 6)"
      ]
     },
     "execution_count": 21,
     "metadata": {},
     "output_type": "execute_result"
    }
   ],
   "source": [
    "data.shape"
   ]
  },
  {
   "cell_type": "code",
   "execution_count": 23,
   "id": "1dc85b9d-a962-41ed-a982-0787df64b4da",
   "metadata": {},
   "outputs": [
    {
     "name": "stdout",
     "output_type": "stream",
     "text": [
      "<class 'pandas.core.frame.DataFrame'>\n",
      "RangeIndex: 42656 entries, 0 to 42655\n",
      "Data columns (total 6 columns):\n",
      "Review_ID            42656 non-null int64\n",
      "Rating               42656 non-null int64\n",
      "Year_Month           42656 non-null object\n",
      "Reviewer_Location    42656 non-null object\n",
      "Review_Text          42656 non-null object\n",
      "Branch               42656 non-null object\n",
      "dtypes: int64(2), object(4)\n",
      "memory usage: 2.0+ MB\n"
     ]
    }
   ],
   "source": [
    "data.info()"
   ]
  },
  {
   "cell_type": "markdown",
   "id": "072cdc18-73ec-4190-a726-c1ab1c8adfdc",
   "metadata": {},
   "source": [
    "## Prepare the data"
   ]
  },
  {
   "cell_type": "code",
   "execution_count": 24,
   "id": "1fcc52e9-60f0-4837-a794-c5b700c03582",
   "metadata": {},
   "outputs": [],
   "source": [
    "reviews = data[[\"Review_ID\", \"Review_Text\" ]]"
   ]
  },
  {
   "cell_type": "code",
   "execution_count": 26,
   "id": "97fda80f-918d-4beb-b1cf-37f30c68fd6c",
   "metadata": {},
   "outputs": [
    {
     "data": {
      "text/html": [
       "<div>\n",
       "<style scoped>\n",
       "    .dataframe tbody tr th:only-of-type {\n",
       "        vertical-align: middle;\n",
       "    }\n",
       "\n",
       "    .dataframe tbody tr th {\n",
       "        vertical-align: top;\n",
       "    }\n",
       "\n",
       "    .dataframe thead th {\n",
       "        text-align: right;\n",
       "    }\n",
       "</style>\n",
       "<table border=\"1\" class=\"dataframe\">\n",
       "  <thead>\n",
       "    <tr style=\"text-align: right;\">\n",
       "      <th></th>\n",
       "      <th>Review_ID</th>\n",
       "      <th>Review_Text</th>\n",
       "    </tr>\n",
       "  </thead>\n",
       "  <tbody>\n",
       "    <tr>\n",
       "      <th>0</th>\n",
       "      <td>670772142</td>\n",
       "      <td>If you've ever been to Disneyland anywhere you...</td>\n",
       "    </tr>\n",
       "    <tr>\n",
       "      <th>1</th>\n",
       "      <td>670682799</td>\n",
       "      <td>Its been a while since d last time we visit HK...</td>\n",
       "    </tr>\n",
       "    <tr>\n",
       "      <th>2</th>\n",
       "      <td>670623270</td>\n",
       "      <td>Thanks God it wasn   t too hot or too humid wh...</td>\n",
       "    </tr>\n",
       "    <tr>\n",
       "      <th>3</th>\n",
       "      <td>670607911</td>\n",
       "      <td>HK Disneyland is a great compact park. Unfortu...</td>\n",
       "    </tr>\n",
       "    <tr>\n",
       "      <th>4</th>\n",
       "      <td>670607296</td>\n",
       "      <td>the location is not in the city, took around 1...</td>\n",
       "    </tr>\n",
       "  </tbody>\n",
       "</table>\n",
       "</div>"
      ],
      "text/plain": [
       "   Review_ID                                        Review_Text\n",
       "0  670772142  If you've ever been to Disneyland anywhere you...\n",
       "1  670682799  Its been a while since d last time we visit HK...\n",
       "2  670623270  Thanks God it wasn   t too hot or too humid wh...\n",
       "3  670607911  HK Disneyland is a great compact park. Unfortu...\n",
       "4  670607296  the location is not in the city, took around 1..."
      ]
     },
     "execution_count": 28,
     "metadata": {},
     "output_type": "execute_result"
    }
   ],
   "source": [
    "reviews.head(5)"
   ]
  },
  {
   "cell_type": "markdown",
   "id": "27c120e9-8c04-4577-b372-6bd79bcdb5e0",
   "metadata": {},
   "source": [
    "## How to apply vader to one review"
   ]
  },
  {
   "cell_type": "code",
   "execution_count": 29,
   "id": "cb3e9281-577e-4ac4-a193-b3622d26e7be",
   "metadata": {},
   "outputs": [
    {
     "data": {
      "text/plain": [
       "\"If you've ever been to Disneyland anywhere you'll find Disneyland Hong Kong very similar in the layout when you walk into main street! It has a very familiar feel. One of the rides  its a Small World  is absolutely fabulous and worth doing. The day we visited was fairly hot and relatively busy but the queues moved fairly well. \""
      ]
     },
     "execution_count": 29,
     "metadata": {},
     "output_type": "execute_result"
    }
   ],
   "source": [
    "rev = reviews[\"Review_Text\"][0]\n",
    "rev"
   ]
  },
  {
   "cell_type": "code",
   "execution_count": 31,
   "id": "4d743eda-2ba2-408f-9ca0-627c68fd7280",
   "metadata": {},
   "outputs": [
    {
     "data": {
      "text/plain": [
       "{'neg': 0.0, 'neu': 0.887, 'pos': 0.113, 'compound': 0.7069}"
      ]
     },
     "execution_count": 31,
     "metadata": {},
     "output_type": "execute_result"
    }
   ],
   "source": [
    "analyzer = SentimentIntensityAnalyzer()\n",
    "analyzer.polarity_scores(rev)"
   ]
  },
  {
   "cell_type": "raw",
   "id": "c4d892d3-2bcf-42c9-80ad-e092d1a6b668",
   "metadata": {},
   "source": [
    "### For every review get and save the scores"
   ]
  },
  {
   "cell_type": "code",
   "execution_count": 44,
   "id": "b26b62af-72e1-4408-9af4-32bf30c77b3a",
   "metadata": {},
   "outputs": [],
   "source": [
    "body = reviews.Review_Text\n",
    "neg, neu, pos, compound = [], [], [], []"
   ]
  },
  {
   "cell_type": "code",
   "execution_count": 45,
   "id": "0fba39fb-df9f-4664-965f-97c673c6c7a3",
   "metadata": {},
   "outputs": [],
   "source": [
    "for rev in body:\n",
    "    res = analyzer.polarity_scores(rev)\n",
    "    neg.append(res['neg'])\n",
    "    neu.append(res['neu'])\n",
    "    pos.append(res['pos'])\n",
    "    compound.append(res['compound'])"
   ]
  },
  {
   "cell_type": "code",
   "execution_count": 47,
   "id": "626553b3-91d7-41cb-8de1-6c4d503b0607",
   "metadata": {},
   "outputs": [
    {
     "data": {
      "text/plain": [
       "42656"
      ]
     },
     "execution_count": 47,
     "metadata": {},
     "output_type": "execute_result"
    }
   ],
   "source": [
    "len(compound)"
   ]
  },
  {
   "cell_type": "markdown",
   "id": "8c7d0095-2b2c-4491-b01c-c1adb397133e",
   "metadata": {},
   "source": [
    "### Add results to our dataframe"
   ]
  },
  {
   "cell_type": "markdown",
   "id": "b8dbf654-254e-4da7-839f-366758891107",
   "metadata": {},
   "source": [
    "#### What does my dataframe look like now?"
   ]
  },
  {
   "cell_type": "code",
   "execution_count": 48,
   "id": "2f5c8dfe-0f2c-48a9-8d0b-8213726552cd",
   "metadata": {},
   "outputs": [
    {
     "name": "stdout",
     "output_type": "stream",
     "text": [
      "<class 'pandas.core.frame.DataFrame'>\n",
      "RangeIndex: 42656 entries, 0 to 42655\n",
      "Data columns (total 2 columns):\n",
      "Review_ID      42656 non-null int64\n",
      "Review_Text    42656 non-null object\n",
      "dtypes: int64(1), object(1)\n",
      "memory usage: 666.6+ KB\n"
     ]
    }
   ],
   "source": [
    "reviews.info()"
   ]
  },
  {
   "cell_type": "code",
   "execution_count": null,
   "id": "901ff1ae-d761-41bb-8699-aeda66077a1d",
   "metadata": {},
   "outputs": [],
   "source": [
    "reviews['Neutral'] = neu\n",
    "reviews['Negative'] = neg\n",
    "reviews['Positive'] = pos\n",
    "reviews['Compound'] = compound"
   ]
  },
  {
   "cell_type": "markdown",
   "id": "08e18a7b-591c-4450-bde1-62e79f254181",
   "metadata": {
    "tags": []
   },
   "source": [
    "### Create tags"
   ]
  },
  {
   "cell_type": "code",
   "execution_count": 51,
   "id": "ac5cdf91-583d-4444-8501-34e3d946fa18",
   "metadata": {},
   "outputs": [],
   "source": [
    "tags = []\n",
    "for i in range(len(reviews)):\n",
    "    winning_val = max(neg[i], pos[i])\n",
    "    if (winning_val == neg[i]):\n",
    "        tags.append('Negative')\n",
    "    else:\n",
    "        tags.append('Positive')"
   ]
  },
  {
   "cell_type": "code",
   "execution_count": null,
   "id": "f087cdbf-3324-4fe2-aea3-cce1e3b63b44",
   "metadata": {},
   "outputs": [],
   "source": []
  }
 ],
 "metadata": {
  "kernelspec": {
   "display_name": "Python 3 (ipykernel)",
   "language": "python",
   "name": "python3"
  },
  "language_info": {
   "codemirror_mode": {
    "name": "ipython",
    "version": 3
   },
   "file_extension": ".py",
   "mimetype": "text/x-python",
   "name": "python",
   "nbconvert_exporter": "python",
   "pygments_lexer": "ipython3",
   "version": "3.8.10"
  }
 },
 "nbformat": 4,
 "nbformat_minor": 5
}
